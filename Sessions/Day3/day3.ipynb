{
 "cells": [
  {
   "cell_type": "markdown",
   "metadata": {
    "id": "8Ymh9SY9GXQQ"
   },
   "source": [
    "# Basics of Python Programming"
   ]
  },
  {
   "cell_type": "markdown",
   "metadata": {
    "id": "1aMChGB5GXQS"
   },
   "source": [
    "### Session 2"
   ]
  },
  {
   "cell_type": "markdown",
   "metadata": {
    "id": "kiKbIQDUGXQT"
   },
   "source": [
    "## Table of contents\n",
    "\n",
    "* [Optional arguments to the print function](#Optional_arguments_to_print)\n",
    "* [Operators and Math formulas](#opt_math_formulas)\n",
    "* [Python Modules](#python_modules)\n",
    "* [Conditional Statements](#con_stmnt)\n",
    "* [Loops](#loops)\n",
    "* [Lists](#lists)\n",
    "* [Tuples](#tuples)\n",
    "* [Sets](#sets)"
   ]
  },
  {
   "cell_type": "markdown",
   "metadata": {
    "id": "0Ue-U1KdGXQV"
   },
   "source": [
    "<a id='Optional_arguments_to_print'></a>\n",
    "### Optional arguments to the print function\n",
    "* sep — used to change or get rid of spaces that print inserts\n",
    "* end — used to change or get rid of when print jumps to next line"
   ]
  },
  {
   "cell_type": "code",
   "execution_count": null,
   "metadata": {
    "id": "VdeIrp75GXQX",
    "outputId": "e2cd2830-adb6-44d0-cc71-ad8cc7c1cde5"
   },
   "outputs": [
    {
     "name": "stdout",
     "output_type": "stream",
     "text": [
      "12345\n",
      "1/2/3/4/5\n",
      "1 2 3 4 5\n",
      "\n",
      "\n"
     ]
    }
   ],
   "source": [
    "print(1, 2, 3, 4, 5, sep='') # prints 12345\n",
    "print(1, 2, 3, 4, 5, sep='/') # prints 1/2/3/4/5\n",
    "print(1, 2, 3, 4, 5, end='\\n\\n\\n')"
   ]
  },
  {
   "cell_type": "code",
   "execution_count": 4,
   "metadata": {
    "colab": {
     "base_uri": "https://localhost:8080/"
    },
    "executionInfo": {
     "elapsed": 3698,
     "status": "ok",
     "timestamp": 1730722656536,
     "user": {
      "displayName": "Shaiful Islam Bapin",
      "userId": "17638143310912377200"
     },
     "user_tz": -360
    },
    "id": "K8rCpQ2iGbNl",
    "outputId": "318d3aed-a2fe-4211-f5dd-492d0b4273ed"
   },
   "outputs": [
    {
     "name": "stdout",
     "output_type": "stream",
     "text": [
      "Enter a Name: Shai\n",
      "S\n",
      "h\n",
      "a\n",
      "i\n"
     ]
    }
   ],
   "source": [
    "# prompt: print a string, each character with separate line without loop.\n",
    "\n",
    "string = input(\"Enter a Name: \")\n",
    "print(*list(string), sep='\\n')"
   ]
  },
  {
   "cell_type": "markdown",
   "metadata": {
    "id": "p0uM2dHyGXQZ"
   },
   "source": [
    "<a id='opt_math_formulas'></a>\n",
    "### Python Operators"
   ]
  },
  {
   "cell_type": "code",
   "execution_count": 5,
   "metadata": {
    "executionInfo": {
     "elapsed": 713,
     "status": "ok",
     "timestamp": 1730723057364,
     "user": {
      "displayName": "Shaiful Islam Bapin",
      "userId": "17638143310912377200"
     },
     "user_tz": -360
    },
    "id": "LA9brkqmH1tP"
   },
   "outputs": [],
   "source": [
    "a,b = 7,10\n",
    "a,b = b,a"
   ]
  },
  {
   "cell_type": "code",
   "execution_count": 6,
   "metadata": {
    "colab": {
     "base_uri": "https://localhost:8080/"
    },
    "executionInfo": {
     "elapsed": 480,
     "status": "ok",
     "timestamp": 1730723064297,
     "user": {
      "displayName": "Shaiful Islam Bapin",
      "userId": "17638143310912377200"
     },
     "user_tz": -360
    },
    "id": "hUC5uTVxIhR8",
    "outputId": "f5365592-c1df-437c-bddd-35003be207b1"
   },
   "outputs": [
    {
     "name": "stdout",
     "output_type": "stream",
     "text": [
      "10 7\n"
     ]
    }
   ],
   "source": [
    "print(a,b)"
   ]
  },
  {
   "cell_type": "code",
   "execution_count": null,
   "metadata": {
    "id": "CidOe87YGXQZ",
    "outputId": "d02bbcf1-6bef-4a15-c2a2-2106a999eca8"
   },
   "outputs": [
    {
     "name": "stdout",
     "output_type": "stream",
     "text": [
      "Arithmetic Operators:\n",
      "a + b = 13\n",
      "a - b = 7\n",
      "a * b = 30\n",
      "a / b = 3.3333333333333335\n",
      "a % b = 1\n",
      "a ** b = 1000\n"
     ]
    }
   ],
   "source": [
    "# Arithmetic Operators\n",
    "print(\"Arithmetic Operators:\")\n",
    "a, b = 10, 3\n",
    "print(f\"a + b = {a + b}\")  # Addition\n",
    "print(f\"a - b = {a - b}\")  # Subtraction\n",
    "print(f\"a * b = {a * b}\")  # Multiplication\n",
    "print(f\"a / b = {a / b}\")  # Division\n",
    "print(f\"a % b = {a % b}\")  # Modulus\n",
    "print(f\"a ** b = {a ** b}\")  # Exponentiation"
   ]
  },
  {
   "cell_type": "code",
   "execution_count": null,
   "metadata": {
    "id": "UwyuUK8hGXQa",
    "outputId": "126ecd5a-828a-42c7-bb6f-1b3b5ee6e929"
   },
   "outputs": [
    {
     "name": "stdout",
     "output_type": "stream",
     "text": [
      "\n",
      "Comparison Operators:\n",
      "a == b: False\n",
      "a != b: True\n",
      "a > b: True\n",
      "a < b: False\n",
      "a >= b: True\n",
      "a <= b: False\n"
     ]
    }
   ],
   "source": [
    "# Comparison Operators\n",
    "print(\"\\nComparison Operators:\")\n",
    "print(f\"a == b: {a == b}\")  # Equal to\n",
    "print(f\"a != b: {a != b}\")  # Not equal to\n",
    "print(f\"a > b: {a > b}\")    # Greater than\n",
    "print(f\"a < b: {a < b}\")    # Less than\n",
    "print(f\"a >= b: {a >= b}\")  # Greater than or equal to\n",
    "print(f\"a <= b: {a <= b}\")  # Less than or equal to"
   ]
  },
  {
   "cell_type": "code",
   "execution_count": null,
   "metadata": {
    "id": "5JihMnR5GXQb",
    "outputId": "c890ab39-d405-454a-cdca-e52e704845df"
   },
   "outputs": [
    {
     "name": "stdout",
     "output_type": "stream",
     "text": [
      "\n",
      "Logical Operators:\n",
      "x and y: False\n",
      "x or y: True\n",
      "not x: False\n"
     ]
    }
   ],
   "source": [
    "# Logical Operators\n",
    "print(\"\\nLogical Operators:\")\n",
    "x, y = True, False\n",
    "print(f\"x and y: {x and y}\")  # Logical AND\n",
    "print(f\"x or y: {x or y}\")    # Logical OR\n",
    "print(f\"not x: {not x}\")      # Logical NOT"
   ]
  },
  {
   "cell_type": "markdown",
   "metadata": {
    "id": "E6WRQqYfGXQc"
   },
   "source": [
    "### Math formulas\n",
    "\n",
    "$+, -, *$, and $/$ are the four basic math operators. Also:\n",
    "\n",
    "| Operator | What it does      | Examples    |\n",
    "|----------|-------------------|-------------|\n",
    "| **       | Powers            | 5**2        |\n",
    "| %        | Modulo (remainder)| 19 % 5 = 4  |\n",
    "| //       | Integer division  | 5//3 = 1    |"
   ]
  },
  {
   "cell_type": "code",
   "execution_count": null,
   "metadata": {
    "id": "2TRBwH62GXQd"
   },
   "outputs": [],
   "source": [
    "print(5+2)\n",
    "print(4-1)\n",
    "print(7*8)\n",
    "print(9/4)"
   ]
  },
  {
   "cell_type": "code",
   "execution_count": null,
   "metadata": {
    "id": "kF3pqAr6GXQd"
   },
   "outputs": [],
   "source": [
    "print(5**2)\n",
    "print(19%5)\n",
    "print(6//3)"
   ]
  },
  {
   "cell_type": "markdown",
   "metadata": {
    "id": "mxvWQT_ZGXQe"
   },
   "source": [
    "A math formula like $3x + 5$ needs the times symbol, like this:\n"
   ]
  },
  {
   "cell_type": "code",
   "execution_count": null,
   "metadata": {
    "id": "lERt9RGnGXQe",
    "outputId": "1d0b7086-43b4-4162-d51a-fc8e434219e7"
   },
   "outputs": [
    {
     "name": "stdout",
     "output_type": "stream",
     "text": [
      "20\n"
     ]
    }
   ],
   "source": [
    "x = 5\n",
    "y = 3*x + 5\n",
    "print(y)"
   ]
  },
  {
   "cell_type": "markdown",
   "metadata": {
    "id": "TNlcdJQeGXQf"
   },
   "source": [
    "Order (PEMDAS) of operations matters. Use parentheses if necessary. An average calculation:"
   ]
  },
  {
   "cell_type": "code",
   "execution_count": null,
   "metadata": {
    "id": "Nd9nFoCYGXQf"
   },
   "outputs": [],
   "source": [
    "x = 6\n",
    "y = 3\n",
    "z = 9\n",
    "avg = (x + y + z) / 3\n",
    "print(avg)"
   ]
  },
  {
   "cell_type": "markdown",
   "metadata": {
    "id": "_-9Grgx-GXQf"
   },
   "source": [
    "<a id='python_modules'></a>\n",
    "### Python Modules\n",
    "\n"
   ]
  },
  {
   "cell_type": "markdown",
   "metadata": {
    "id": "w0_4X23VGXQf"
   },
   "source": [
    "#### Creating Functions in Python\n",
    "\n",
    "Functions are reusable blocks of code that perform a specific task. They help in organizing code, improving readability, and reducing repetition.\n",
    "\n",
    "### Basic Function Structure\n",
    "\n",
    "```python\n",
    "def function_name(parameters):\n",
    "    # Function body\n",
    "    # Code to be executed\n",
    "    return result  # Optional"
   ]
  },
  {
   "cell_type": "code",
   "execution_count": 7,
   "metadata": {},
   "outputs": [],
   "source": [
    "def name_input():\n",
    "    name = input(\"Enter your name: \")\n",
    "    print(f\"Hello, {name}!\")"
   ]
  },
  {
   "cell_type": "code",
   "execution_count": 8,
   "metadata": {
    "colab": {
     "base_uri": "https://localhost:8080/",
     "height": 211
    },
    "executionInfo": {
     "elapsed": 473,
     "status": "error",
     "timestamp": 1730723791336,
     "user": {
      "displayName": "Shaiful Islam Bapin",
      "userId": "17638143310912377200"
     },
     "user_tz": -360
    },
    "id": "47DYERxZKRnd",
    "outputId": "78cb03b7-c43d-4ec6-9507-76cb89cc0edd"
   },
   "outputs": [
    {
     "name": "stdout",
     "output_type": "stream",
     "text": [
      "Hello, Emon!\n"
     ]
    }
   ],
   "source": [
    "\n",
    "\n",
    "name_input()\n"
   ]
  },
  {
   "cell_type": "code",
   "execution_count": 17,
   "metadata": {},
   "outputs": [
    {
     "name": "stdout",
     "output_type": "stream",
     "text": [
      "Hello, Krishna!\n"
     ]
    }
   ],
   "source": [
    "def name_input(name):    \n",
    "    print(f\"Hello, {name}!\")\n",
    "    \n",
    "    \n",
    "name_input(\"Krishna\")"
   ]
  },
  {
   "cell_type": "code",
   "execution_count": null,
   "metadata": {},
   "outputs": [
    {
     "name": "stdout",
     "output_type": "stream",
     "text": [
      "Hello, XYZ!\n"
     ]
    }
   ],
   "source": [
    "def name_input(name):    \n",
    "    print(f\"Hello, {name}!\")\n",
    "    \n",
    "name_input(\"\")"
   ]
  },
  {
   "cell_type": "code",
   "execution_count": 18,
   "metadata": {
    "id": "QRVp84anGXQg",
    "outputId": "a0678ffc-bd21-4c65-91cc-e74c770780e4"
   },
   "outputs": [
    {
     "name": "stdout",
     "output_type": "stream",
     "text": [
      "Hello, Alice!\n"
     ]
    }
   ],
   "source": [
    "def greet(name):\n",
    "    \"\"\"This function greets the person passed in as a parameter\"\"\"\n",
    "    return f\"Hello, {name}!\"\n",
    "\n",
    "# Calling the function\n",
    "name = greet(\"Alice\")\n",
    "print(name)  # Output: Hello, Alice!"
   ]
  },
  {
   "cell_type": "code",
   "execution_count": 10,
   "metadata": {
    "colab": {
     "base_uri": "https://localhost:8080/"
    },
    "executionInfo": {
     "elapsed": 632,
     "status": "ok",
     "timestamp": 1730724568376,
     "user": {
      "displayName": "Shaiful Islam Bapin",
      "userId": "17638143310912377200"
     },
     "user_tz": -360
    },
    "id": "vOvlcHbyGXQg",
    "outputId": "2a461899-ff39-45e5-d18e-a0c346607911"
   },
   "outputs": [
    {
     "name": "stdout",
     "output_type": "stream",
     "text": [
      "The sum is: 50\n"
     ]
    }
   ],
   "source": [
    "def add_numbers(a=20, b=10):\n",
    "    \"\"\"This function adds two numbers\"\"\"\n",
    "    return a + b\n",
    "\n",
    "result = add_numbers(7,9)\n",
    "print(f\"The sum is: {result}\")"
   ]
  },
  {
   "cell_type": "code",
   "execution_count": null,
   "metadata": {
    "id": "gxwBJTosGXQh"
   },
   "outputs": [],
   "source": [
    "def power(base, exponent=2):\n",
    "    \"\"\"This function calculates the power of a number\"\"\"\n",
    "    return base ** exponent\n",
    "\n",
    "print(power(3))      # Uses default exponent (2)\n",
    "print(power(3, 3))   # Uses provided exponent"
   ]
  },
  {
   "cell_type": "markdown",
   "metadata": {
    "id": "yLiI1aorGXQh"
   },
   "source": [
    "## Python Modules\n",
    "\n",
    "Modules are files containing Python code. They can define functions, classes, and variables that you can use in other Python programs.\n",
    "\n",
    "### Importing Modules\n",
    "\n",
    "There are several ways to import modules:\n",
    "```python\n",
    "# Import the entire module\n",
    "import math\n",
    "\n",
    "# Import specific functions from a module\n",
    "from random import randint, choice\n",
    "\n",
    "# Import a module with an alias\n",
    "import numpy as np"
   ]
  },
  {
   "cell_type": "code",
   "execution_count": 13,
   "metadata": {
    "colab": {
     "base_uri": "https://localhost:8080/"
    },
    "executionInfo": {
     "elapsed": 459,
     "status": "ok",
     "timestamp": 1730725250380,
     "user": {
      "displayName": "Shaiful Islam Bapin",
      "userId": "17638143310912377200"
     },
     "user_tz": -360
    },
    "id": "AqIYOzK5QFtU",
    "outputId": "1ffcfbde-5dae-4a69-d5e1-bd73d6415ac0"
   },
   "outputs": [
    {
     "name": "stdout",
     "output_type": "stream",
     "text": [
      "The value of pi is 3.141592653589793\n"
     ]
    }
   ],
   "source": [
    "from math import pi as p\n",
    "\n",
    "print(\"The value of pi is\", p)"
   ]
  },
  {
   "cell_type": "code",
   "execution_count": 14,
   "metadata": {
    "colab": {
     "base_uri": "https://localhost:8080/"
    },
    "executionInfo": {
     "elapsed": 477,
     "status": "ok",
     "timestamp": 1730725299865,
     "user": {
      "displayName": "Shaiful Islam Bapin",
      "userId": "17638143310912377200"
     },
     "user_tz": -360
    },
    "id": "ykq7owQsGXQh",
    "outputId": "8973e5e0-1529-42df-b3e3-a47f3d7cb708"
   },
   "outputs": [
    {
     "name": "stdout",
     "output_type": "stream",
     "text": [
      "The sine of pi is 1.2246467991473532e-16\n"
     ]
    }
   ],
   "source": [
    "from math import sin, pi\n",
    "\n",
    "print(\"The sine of pi is\", sin(pi))"
   ]
  },
  {
   "cell_type": "markdown",
   "metadata": {
    "id": "xwMG2RCNGXQi"
   },
   "source": [
    "The absolute value and round functions don’t need to be imported:"
   ]
  },
  {
   "cell_type": "code",
   "execution_count": null,
   "metadata": {
    "id": "MVWoftgbGXQi",
    "outputId": "0eadbf45-74f2-4a2b-a112-2eeda3783182"
   },
   "outputs": [
    {
     "name": "stdout",
     "output_type": "stream",
     "text": [
      "The absolute value of -3 is 3\n",
      "4/3 rounded to two decimal places is 1.33\n"
     ]
    }
   ],
   "source": [
    "print(\"The absolute value of -3 is\", abs(-3))\n",
    "print(\"4/3 rounded to two decimal places is\", round(4/3, 2))"
   ]
  },
  {
   "cell_type": "code",
   "execution_count": 15,
   "metadata": {
    "colab": {
     "base_uri": "https://localhost:8080/"
    },
    "executionInfo": {
     "elapsed": 604,
     "status": "ok",
     "timestamp": 1730725616549,
     "user": {
      "displayName": "Shaiful Islam Bapin",
      "userId": "17638143310912377200"
     },
     "user_tz": -360
    },
    "id": "e0I_JZ2cGXQj",
    "outputId": "85513226-b8e4-41bc-b65e-5ae02ddfe72c"
   },
   "outputs": [
    {
     "name": "stdout",
     "output_type": "stream",
     "text": [
      "3\n"
     ]
    }
   ],
   "source": [
    "from random import randint\n",
    "print(randint(1, 5))\n"
   ]
  },
  {
   "cell_type": "code",
   "execution_count": null,
   "metadata": {
    "colab": {
     "base_uri": "https://localhost:8080/"
    },
    "executionInfo": {
     "elapsed": 448,
     "status": "ok",
     "timestamp": 1730726213755,
     "user": {
      "displayName": "Shaiful Islam Bapin",
      "userId": "17638143310912377200"
     },
     "user_tz": -360
    },
    "id": "hq6Oy-4qSlbr",
    "outputId": "8e155f8f-64a3-44d5-f346-e3c9a079f4b5"
   },
   "outputs": [
    {
     "name": "stdout",
     "output_type": "stream",
     "text": [
      "GroupA: [14, 23, 15, 4, 9]\n",
      "GroupB: [19, 21, 12, 29, 8]\n",
      "GroupC: [27, 18, 30, 28, 24]\n"
     ]
    }
   ],
   "source": [
    "# We have 30 student. Make 6 group using python random function each group have 5 people. Mention GroupA - 5 number, groupB - 5 number this way. Make the code as simple as possible. without loop if possible.\n",
    "\n",
    "import random\n",
    "\n",
    "students = list(range(1, 31))\n",
    "random.shuffle(students)\n",
    "\n",
    "group_size = 5\n",
    "num_groups = 6\n",
    "\n",
    "groupA = students[:5]\n",
    "groupB = students[5:10]\n",
    "groupC = students[10:15]\n",
    "# groupD = students[3*group_size:4*group_size]\n",
    "# groupE = students[4*group_size:5*group_size]\n",
    "# groupF = students[5*group_size:]\n",
    "\n",
    "print(\"GroupA:\", groupA)\n",
    "print(\"GroupB:\", groupB)\n",
    "print(\"GroupC:\", groupC)\n",
    "# print(\"GroupD:\", groupD)\n",
    "# print(\"GroupE:\", groupE)\n",
    "# print(\"GroupF:\", groupF)"
   ]
  },
  {
   "cell_type": "markdown",
   "metadata": {
    "id": "qHCFTXx8GXQj"
   },
   "source": [
    "<a id='con_stmnt'></a>\n",
    "## Conditional Statements\n",
    "\n",
    "<!--- <img src=\"imgs/jupyter-logo.svg\" alt=\"drawing\" width=\"200\"> -->"
   ]
  },
  {
   "cell_type": "code",
   "execution_count": 26,
   "metadata": {
    "colab": {
     "base_uri": "https://localhost:8080/"
    },
    "executionInfo": {
     "elapsed": 4023,
     "status": "ok",
     "timestamp": 1730727850920,
     "user": {
      "displayName": "Shaiful Islam Bapin",
      "userId": "17638143310912377200"
     },
     "user_tz": -360
    },
    "id": "x8qk0vzwGXQj",
    "outputId": "355f680e-466c-4b73-f226-e7c2442eb430"
   },
   "outputs": [
    {
     "name": "stdout",
     "output_type": "stream",
     "text": [
      "Enter a number54\n",
      "X is nither 3 nor 5\n"
     ]
    }
   ],
   "source": [
    "x = int(input(\"Enter a number \"))\n",
    "\n",
    "if x == 3:\n",
    "    print(\"X is 3\")\n",
    "elif(x == 5):\n",
    "  print(\"X is 5\")\n",
    "else:\n",
    "    print(\"X is nither 3 nor 5\")\n"
   ]
  },
  {
   "cell_type": "code",
   "execution_count": null,
   "metadata": {
    "id": "kkmDMM00GXQk"
   },
   "outputs": [],
   "source": [
    "if x != 5: # if x is not 3\n",
    "    print(\"X is not 5\")"
   ]
  },
  {
   "cell_type": "code",
   "execution_count": null,
   "metadata": {
    "id": "pOqXF7udGXQk"
   },
   "outputs": [],
   "source": [
    "if (x >= 1 and x <= 5) or x==7: # if x is between 1 and 5\n",
    "    print(\"X is between 1 and 5\")"
   ]
  },
  {
   "cell_type": "code",
   "execution_count": null,
   "metadata": {
    "id": "QW3DZAfYGXQk"
   },
   "outputs": [],
   "source": [
    "if x == 1 or x == 3: # if x is 1 or 2\n",
    "    print(\"X is not 1 nor 2\")"
   ]
  },
  {
   "cell_type": "code",
   "execution_count": null,
   "metadata": {
    "id": "UhvE9-hkGXQl"
   },
   "outputs": [],
   "source": [
    "name = \"kuddus\"\n",
    "\n",
    "if name == \"kuddus\": # checking strings\n",
    "    print(name)"
   ]
  },
  {
   "cell_type": "code",
   "execution_count": null,
   "metadata": {
    "id": "tydhJjZ4GXQl"
   },
   "outputs": [],
   "source": [
    "y = 2\n",
    "x = 7\n",
    "\n",
    "if (x == 3 or x == 5) and y == 2: # use parens in complicated statements\n",
    "    print(x, y)"
   ]
  },
  {
   "cell_type": "markdown",
   "metadata": {
    "id": "wuVvulEVGXQm"
   },
   "source": [
    "### if/else statements\n"
   ]
  },
  {
   "cell_type": "code",
   "execution_count": null,
   "metadata": {
    "id": "6MnGx78uGXQm"
   },
   "outputs": [],
   "source": [
    "num = 5\n",
    "guess = 2\n",
    "\n",
    "if guess == num:\n",
    "    print(\"You got it!\")\n",
    "else:\n",
    "    print(\"You missed it.\")"
   ]
  },
  {
   "cell_type": "markdown",
   "metadata": {
    "id": "GBMNdgclGXQn"
   },
   "source": [
    "### if/elif/else statements\n",
    "* It is useful if something can be one of several possibilities"
   ]
  },
  {
   "cell_type": "code",
   "execution_count": 1,
   "metadata": {
    "id": "vsW-8XBbGXQn"
   },
   "outputs": [
    {
     "name": "stdout",
     "output_type": "stream",
     "text": [
      "Your total bill is $45.00\n"
     ]
    }
   ],
   "source": [
    "entry = input(\"Do you have any discount? (yes/no):\")\n",
    "\n",
    "entry = entry.lower()\n",
    "if entry == \"yes\":\n",
    "    print(\"Your total bill is $45.00\")\n",
    "elif entry == \"no\":\n",
    "    print(\"Your total bill is $50.00\")\n",
    "else:\n",
    "    print(\"Invalid entry\")"
   ]
  },
  {
   "cell_type": "markdown",
   "metadata": {
    "id": "x_onnB3CGXQn"
   },
   "source": [
    "<a id='loops'></a>\n",
    "## Loops\n",
    "\n",
    "### For Loop"
   ]
  },
  {
   "cell_type": "markdown",
   "metadata": {
    "id": "68n5GuwyGXQn"
   },
   "source": [
    "The following line will print hello 5 times."
   ]
  },
  {
   "cell_type": "code",
   "execution_count": null,
   "metadata": {
    "id": "cL1HByfxdwkN"
   },
   "outputs": [],
   "source": [
    "# Git demonstration"
   ]
  },
  {
   "cell_type": "code",
   "execution_count": 2,
   "metadata": {
    "colab": {
     "base_uri": "https://localhost:8080/"
    },
    "executionInfo": {
     "elapsed": 524,
     "status": "ok",
     "timestamp": 1730728905628,
     "user": {
      "displayName": "Shaiful Islam Bapin",
      "userId": "17638143310912377200"
     },
     "user_tz": -360
    },
    "id": "9eyUteW7GXQw",
    "outputId": "60a16df9-b083-49d6-c81c-d6fa0ad32e7a"
   },
   "outputs": [
    {
     "name": "stdout",
     "output_type": "stream",
     "text": [
      "2 3 4 5 6 7 8 9 10 11 12 13 14 15 16 17 18 19 20 21 22 23 24 25 26 27 28 29 30 31 32 33 34 35 36 37 38 39 40 41 42 43 44 45 46 47 48 49 "
     ]
    }
   ],
   "source": [
    "for i in range(2,50):\n",
    "    print(i, end=\" \")"
   ]
  },
  {
   "cell_type": "code",
   "execution_count": 6,
   "metadata": {},
   "outputs": [
    {
     "name": "stdout",
     "output_type": "stream",
     "text": [
      "3\n"
     ]
    }
   ],
   "source": [
    "a = \"shaissful\"\n",
    "print(a.count('s'))"
   ]
  },
  {
   "cell_type": "code",
   "execution_count": 12,
   "metadata": {},
   "outputs": [
    {
     "name": "stdout",
     "output_type": "stream",
     "text": [
      "Vowel:  6\n",
      "Consonent:  9\n"
     ]
    }
   ],
   "source": [
    "name = input(\"Enter your name: \").lower()\n",
    "con = 0\n",
    "vow = 0\n",
    "for i in name:\n",
    "    if(i == \" \"):\n",
    "        continue\n",
    "    elif(i == 'a' or i == 'e' or i == 'i' or i == 'o' or i == 'u'):\n",
    "        vow+=1\n",
    "    else:\n",
    "        con+=1\n",
    "   \n",
    "print(\"Vowel: \", vow)\n",
    "print(\"Consonent: \", con)     \n",
    "\n",
    "    "
   ]
  },
  {
   "cell_type": "markdown",
   "metadata": {
    "id": "-RHhGal8GXQx"
   },
   "source": [
    "Indentation is used to tell what statements will be repeated.\n",
    "The statement below alternates printing A and B 5 times and then prints Bye once."
   ]
  },
  {
   "cell_type": "code",
   "execution_count": null,
   "metadata": {
    "id": "787GThHMGXQx",
    "outputId": "f3b2f57b-9c29-4664-eb42-c5a421c0853f"
   },
   "outputs": [
    {
     "name": "stdout",
     "output_type": "stream",
     "text": [
      "A\n",
      "B\n",
      "A\n",
      "B\n",
      "A\n",
      "B\n",
      "A\n",
      "B\n",
      "A\n",
      "B\n",
      "Bye\n"
     ]
    }
   ],
   "source": [
    "for i in range(5):\n",
    "    print(\"A\")\n",
    "    print(\"B\")\n",
    "print(\"Bye\")"
   ]
  },
  {
   "cell_type": "markdown",
   "metadata": {
    "id": "li8Ks2UAGXQx"
   },
   "source": [
    "The $i$ variable in a for loop keeps track of where you are in the loop. In a simple for loop it starts off at $0$ and goes to one $less$ than whatever is in the range. The example below prints out the value of $i$ at each step and will end up printing the numbers from $0\\, to \\,9$"
   ]
  },
  {
   "cell_type": "code",
   "execution_count": 14,
   "metadata": {
    "colab": {
     "base_uri": "https://localhost:8080/"
    },
    "executionInfo": {
     "elapsed": 553,
     "status": "ok",
     "timestamp": 1730729039214,
     "user": {
      "displayName": "Shaiful Islam Bapin",
      "userId": "17638143310912377200"
     },
     "user_tz": -360
    },
    "id": "ozlpABJBGXQy",
    "outputId": "377e1ac2-b543-44a2-9666-33ce0d1fb0c7"
   },
   "outputs": [
    {
     "name": "stdout",
     "output_type": "stream",
     "text": [
      "10 9 8 7 6 5 4 3 2 "
     ]
    }
   ],
   "source": [
    "for i in range(10, 1, -1):\n",
    "    print(i, end=\" \")"
   ]
  },
  {
   "cell_type": "markdown",
   "metadata": {
    "id": "f61s8JkXGXQy"
   },
   "source": [
    "**The range statement**— Here are some example ranges:\n",
    "\n",
    "| Statement      | Values generated     |\n",
    "|----------------|----------------------|\n",
    "| range(10)      | 0,1,2,3,4,5,6,7,8,9  |\n",
    "| range(5,10)    | 5,6,7,8,9            |\n",
    "| range(1,10,2)  | 1,3,5,7,9            |\n",
    "| range(10,0,-1) | 10,9,8,7,6,5,4,3,2,1 |"
   ]
  },
  {
   "cell_type": "markdown",
   "metadata": {
    "id": "-x9_HZmUGXQy"
   },
   "source": [
    "One tricky thing is that the **endpoint of the range is never included** in the numbers generated.\n",
    "\n",
    "For instance, range(1,10) stops at 9."
   ]
  },
  {
   "cell_type": "markdown",
   "metadata": {
    "id": "IwM6u55nGXQy"
   },
   "source": [
    "### While Loops"
   ]
  },
  {
   "cell_type": "code",
   "execution_count": null,
   "metadata": {
    "id": "6C1PKMFaGXQz"
   },
   "outputs": [],
   "source": [
    "i = 1\n",
    "while i < 6:\n",
    "    print(i)\n",
    "    i += 1"
   ]
  },
  {
   "cell_type": "code",
   "execution_count": null,
   "metadata": {
    "id": "eAc_-WRnGXQz"
   },
   "outputs": [],
   "source": [
    "i = 1\n",
    "while i is not 5:\n",
    "    print(i)\n",
    "    i+=1"
   ]
  },
  {
   "cell_type": "markdown",
   "metadata": {
    "id": "iF36tCztGXQz"
   },
   "source": [
    "# Task 1: Number Guessing Game\n",
    "Create a simple number guessing game where the program randomly selects a number between 1 and 100. The user has to guess the number, and the program should provide hints like \"Too high!\" or \"Too low!\" until the user guesses correctly.\n",
    "\n",
    "Requirements:\n",
    "\n",
    "\n",
    "*   Use the random module to select the number\n",
    "*   Implement a loop to allow multiple guesses.\n",
    "* Track and display the number of attempts it took the user to guess the number.\n",
    "\n"
   ]
  },
  {
   "cell_type": "code",
   "execution_count": 22,
   "metadata": {
    "id": "0W1jIG6FGXQz"
   },
   "outputs": [
    {
     "name": "stdout",
     "output_type": "stream",
     "text": [
      "Your guess is High\n",
      "Your guess is low\n",
      "Your guess is low\n",
      "Your guess is low\n",
      "Your guess is low\n",
      "You guess it right with 6 time\n"
     ]
    }
   ],
   "source": [
    "# TODO\n",
    "from random import randint\n",
    "number = randint(1,101)\n",
    "cnt = 0\n",
    "while True:\n",
    "    guess = int(input(\"Please guess the number from 1-100: \"))\n",
    "    cnt += 1\n",
    "    if (guess == number):\n",
    "        print(f\"You guess it right with {cnt} time\")\n",
    "        break\n",
    "    elif(guess < number):\n",
    "        print(\"Your guess is low\")\n",
    "    else:\n",
    "        print(\"Your guess is High\")\n"
   ]
  },
  {
   "cell_type": "markdown",
   "metadata": {
    "id": "uUPULCJhGXQz"
   },
   "source": [
    "# Task 2: Rock, Paper, Scissors Game\n",
    "Develop a command-line version of Rock, Paper, Scissors. The user plays against the computer, which randomly selects its choice.\n",
    "\n",
    "Requirements:\n",
    "\n",
    "* Use the random module to let the computer make its choice.\n",
    "* Implement a loop that allows the user to play multiple rounds.\n",
    "* Keep track of scores and display the winner after each round."
   ]
  },
  {
   "cell_type": "code",
   "execution_count": null,
   "metadata": {
    "id": "oAYYWRIVWt1s"
   },
   "outputs": [],
   "source": [
    "# TODO"
   ]
  }
 ],
 "metadata": {
  "colab": {
   "provenance": []
  },
  "kernelspec": {
   "display_name": ".venv",
   "language": "python",
   "name": "python3"
  },
  "language_info": {
   "codemirror_mode": {
    "name": "ipython",
    "version": 3
   },
   "file_extension": ".py",
   "mimetype": "text/x-python",
   "name": "python",
   "nbconvert_exporter": "python",
   "pygments_lexer": "ipython3",
   "version": "3.12.1"
  }
 },
 "nbformat": 4,
 "nbformat_minor": 0
}
